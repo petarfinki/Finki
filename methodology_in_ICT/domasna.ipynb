{
 "cells": [
  {
   "cell_type": "markdown",
   "metadata": {
    "kernel": "SoS"
   },
   "source": [
    "## <center>Домашна работа</center>\n",
    "# <center>Филтрирање на слика во фрекфенциски домен</center>"
   ]
  },
  {
   "cell_type": "markdown",
   "metadata": {
    "kernel": "SoS"
   },
   "source": [
    "ТЕОРИЈА:\n",
    "\n",
    "За да филтрираме слика во фреквенциски домен потребно е да ја помножиме сликата во фреквенциски домен со филтерот (кернел) кој е исто така во фреквенциски домен.$$I_{f,flit}=HI_f$$\n",
    "За таа цел потребно е да се вметне Octave функција која ќе креира “Band pass gaussian filter” во фреквенциски домен. Bandpass гаусовиот филтер во фреквенциски домен е дефиниран со равенката:$$H(i,j)=e^{\\frac{d(i,j)^2}{f_h^2}}$$\n",
    "Каде што 𝑑(𝑖,𝑗) е евклидовото растојанието на даден пиксел од центарот на сликата, додека 𝑓ℎ и 𝑓 𝑙 се праговите на високите и ниските фреквенции кои сакаме да ги филтрираме. \n",
    " \n",
    "Конверзија на 2D сликата од просторен во фреквенциски домен се прави со користење на Фуриева трансформација. Фуриевата трансформација е дефинирана како: $$F(u,v)=\\int\\int_{-\\infty}^\\infty{𝑓(𝑥,𝑦)e^{−𝑖2𝜋(𝑢𝑥+𝑣𝑦)}dxdy}$$\n",
    "А во дискретниот домен горната равенка може да биде преведена како$$F(u,v)={\\sum_{m=-{\\infty}}^{\\infty}\\sum_{n=-{\\infty}}^{\\infty}{f[m,n]∙e^{−𝑖2𝜋(𝑢𝑚𝑥_o+𝑣𝑛𝑦_o)}}}$$\n",
    "Конверзија на 2D сликата од фреквенциски во просторен домен се прави со користење на инверзна Фуриева трансформација. Инверзната Фуриева трансформација е дефинирана како: $$F(x, y)=\\int\\int_{-\\infty}^\\infty{𝑓(u,v)e^{−𝑖2𝜋(𝑢𝑥+𝑣𝑦)}dudv}$$\n",
    "А во дискретниот домен горната равенка може да биде преведена како$$F(x, y)={\\sum_{m=-{\\infty}}^{\\infty}\\sum_{n=-{\\infty}}^{\\infty}{f(m,n)∙e^{−𝑖2𝜋(xmu_o+ynv_o)}}}$$"
   ]
  },
  {
   "cell_type": "markdown",
   "metadata": {
    "kernel": "SoS"
   },
   "source": [
    "\n",
    "\n",
    "## <center>Имплементација</center>"
   ]
  },
  {
   "cell_type": "code",
   "execution_count": 5,
   "metadata": {
    "kernel": "Octave"
   },
   "outputs": [],
   "source": [
    "function filter = create_filter(nx,ny,d0,d1)\n",
    "filter = ones(nx,ny);\n",
    "for i = 0:nx-1\n",
    " for j = 0:ny-1\n",
    " dist= sqrt((i-nx/2)^2 + (j-ny/2)^2);\n",
    " filter(i+1,j+1) = exp(-(dist^2)/(d1^2)).*(1.0-exp(-(dist^2)/(d0^2)));\n",
    " end\n",
    "end\n",
    "filter(nx/2+1,ny/2+1)=1;\n",
    "end"
   ]
  },
  {
   "cell_type": "code",
   "execution_count": 6,
   "metadata": {
    "kernel": "Octave"
   },
   "outputs": [],
   "source": [
    "clear all\n",
    "%read image\n",
    "im = double(imread('Barbara.tif'));\n",
    "%size of the image\n",
    "[nx ny] = size(im);\n",
    "%Transform the image from spatial to frequency domain\n",
    "im_fft = fftshift(fft2(im));\n",
    "% Create Gaussian bandpass kernels, in frequency domain, for 20 different cut off frequencies and filter the image\n",
    "p=1;\n",
    "for i = 1:10:101\n",
    "q=1;\n",
    "    for j = 1:10:101\n",
    "        %Create the bandpass kernel\n",
    "        tmp1 = create_filter(nx,ny,i,j);\n",
    "        %Filter the image with the bandpass kernel and transform it back to spatial domain\n",
    "        tmp = abs(ifft2(ifftshift(tmp1.*im_fft)));\n",
    "        %Save the filtered image (in spatial domain) and kernel (in frequency domain) for visualization \n",
    "        filtered_image(p,q,:) = tmp(:);\n",
    "        filter_kernel(p,q,:) = tmp1(:);\n",
    "        q=q+1;\n",
    "    end\n",
    "    p=p+1;\n",
    "end"
   ]
  },
  {
   "cell_type": "code",
   "execution_count": 7,
   "metadata": {
    "kernel": "Octave"
   },
   "outputs": [],
   "source": [
    "im = double(imread('Barbara.tif'));\n",
    "%size of the image\n",
    "[nx ny] = size(im);\n",
    "a = [nx ny];\n",
    "save -6 file2.m a"
   ]
  },
  {
   "cell_type": "code",
   "execution_count": 8,
   "metadata": {
    "kernel": "Octave"
   },
   "outputs": [],
   "source": [
    "save -6 file.m filtered_image\n",
    "save -6 file1.m filter_kernel"
   ]
  },
  {
   "cell_type": "code",
   "execution_count": 9,
   "metadata": {
    "kernel": "Python 3"
   },
   "outputs": [],
   "source": [
    "from scipy.io import loadmat\n",
    "import numpy as np\n",
    "\n",
    "img = loadmat(\"file.m\")\n",
    "kernel = loadmat(\"file1.m\")\n",
    "niza = loadmat(\"file2.m\")\n",
    "\n",
    "trid = img['filtered_image'][1][5]\n",
    "trid_kernel=kernel['filter_kernel'][1][5]\n",
    "\n",
    "img_new = np.rot90(np.reshape(trid, (int(niza['a'][0][1]) , int(niza['a'][0][0]))))\n",
    "img_new_kernel=np.rot90(np.reshape(trid_kernel, (int(niza['a'][0][1]) , int(niza['a'][0][0]))))\n"
   ]
  },
  {
   "cell_type": "markdown",
   "metadata": {
    "kernel": "Python 3"
   },
   "source": [
    "## <center>Визуелизација</center>"
   ]
  },
  {
   "cell_type": "code",
   "execution_count": 10,
   "metadata": {
    "kernel": "Python 3"
   },
   "outputs": [
    {
     "data": {
      "application/vnd.jupyter.widget-view+json": {
       "model_id": "5faeb99ea3db45d4b530f9d1ef90b6e0",
       "version_major": 2,
       "version_minor": 0
      },
      "text/plain": [
       "FigureWidget({\n",
       "    'data': [{'colorscale': [[0.0, 'rgb(0, 0, 0)'], [0.09090909090909091, 'rgb(16,\n",
       "            …"
      ]
     },
     "metadata": {},
     "output_type": "display_data"
    },
    {
     "data": {
      "application/vnd.jupyter.widget-view+json": {
       "model_id": "08d1a97abf15420cb43f9694ec22f8da",
       "version_major": 2,
       "version_minor": 0
      },
      "text/plain": [
       "FigureWidget({\n",
       "    'data': [{'colorscale': [[0.0, 'rgb(0, 0, 0)'], [0.09090909090909091, 'rgb(16,\n",
       "            …"
      ]
     },
     "metadata": {},
     "output_type": "display_data"
    },
    {
     "data": {
      "application/vnd.jupyter.widget-view+json": {
       "model_id": "760794cc934844a7be46873646218c75",
       "version_major": 2,
       "version_minor": 0
      },
      "text/plain": [
       "IntRangeSlider(value=(0, 10), continuous_update=False, description='Cutoff:', max=10)"
      ]
     },
     "metadata": {},
     "output_type": "display_data"
    }
   ],
   "source": [
    "import plotly.graph_objects as go\n",
    "import ipywidgets as widgets\n",
    "from scipy.io import loadmat\n",
    "import numpy as np\n",
    "from ipywidgets import interact, interactive, fixed, interact_manual\n",
    "\n",
    "img = loadmat(\"file.m\")\n",
    "kernel = loadmat(\"file1.m\")\n",
    "niza = loadmat(\"file2.m\")\n",
    "\n",
    "def funkcija(change):\n",
    "    trid = img['filtered_image'][izlez.value[0]][izlez.value[1]]\n",
    "    trid_kernel=kernel['filter_kernel'][izlez.value[0]][izlez.value[1]]\n",
    "    img_new = np.rot90(np.reshape(trid, (int(niza['a'][0][1]) , int(niza['a'][0][0]))))\n",
    "    img_new_kernel=np.rot90(np.reshape(trid_kernel, (int(niza['a'][0][1]) , int(niza['a'][0][0]))))\n",
    "    f1.data[0].z = img_new\n",
    "    f2.data[0].z=img_new_kernel\n",
    "\n",
    "izlez=widgets.IntRangeSlider(\n",
    "    value=[0, 10],\n",
    "    min=0,\n",
    "    max=10,\n",
    "    step=1,\n",
    "    description='Cutoff:',\n",
    "    disabled=False,\n",
    "    continuous_update=False,\n",
    "    orientation='horizontal',\n",
    "    readout=True,\n",
    "    readout_format='d',\n",
    ")\n",
    "\n",
    "data=go.Heatmap(z=img_new,colorscale='gray',showscale=False)\n",
    "data2=go.Heatmap(z=img_new_kernel,colorscale='gray',showscale=False)\n",
    "figure = go.Figure(data=data)\n",
    "figure2=go.Figure(data=data2)\n",
    "f1 = go.FigureWidget(figure)\n",
    "f2= go.FigureWidget(figure2)\n",
    "izlez.observe(funkcija, names='value')\n",
    "display(f1,f2,izlez)\n",
    "\n"
   ]
  },
  {
   "cell_type": "code",
   "execution_count": null,
   "metadata": {
    "kernel": "Python 3"
   },
   "outputs": [],
   "source": []
  },
  {
   "cell_type": "code",
   "execution_count": null,
   "metadata": {
    "kernel": "Python 3"
   },
   "outputs": [],
   "source": []
  },
  {
   "cell_type": "code",
   "execution_count": null,
   "metadata": {
    "kernel": "Python 3"
   },
   "outputs": [],
   "source": []
  }
 ],
 "metadata": {
  "kernelspec": {
   "display_name": "SoS",
   "language": "sos",
   "name": "sos"
  },
  "language_info": {
   "codemirror_mode": "sos",
   "file_extension": ".sos",
   "mimetype": "text/x-sos",
   "name": "sos",
   "nbconvert_exporter": "sos_notebook.converter.SoS_Exporter",
   "pygments_lexer": "sos"
  },
  "sos": {
   "kernels": [
    [
     "Octave",
     "octave",
     "octave",
     "",
     ""
    ],
    [
     "Python 3",
     "python3",
     "python3",
     "",
     {
      "name": "ipython",
      "version": 3
     }
    ]
   ],
   "panel": {
    "displayed": true,
    "height": 0
   },
   "version": "0.21.0"
  }
 },
 "nbformat": 4,
 "nbformat_minor": 2
}
